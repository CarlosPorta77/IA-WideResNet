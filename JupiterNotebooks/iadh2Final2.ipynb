{
 "cells": [
  {
   "cell_type": "markdown",
   "metadata": {},
   "source": [
    "# IADH - DESAFIO 2 "
   ]
  },
  {
   "cell_type": "markdown",
   "metadata": {},
   "source": [
    "# Versión Final"
   ]
  },
  {
   "cell_type": "code",
   "execution_count": 1,
   "metadata": {},
   "outputs": [
    {
     "data": {
      "application/javascript": [
       "IPython.notebook.set_autosave_interval(600000)"
      ]
     },
     "metadata": {},
     "output_type": "display_data"
    },
    {
     "name": "stdout",
     "output_type": "stream",
     "text": [
      "Autosaving every 600 seconds\n"
     ]
    }
   ],
   "source": [
    "%autosave 600"
   ]
  },
  {
   "cell_type": "code",
   "execution_count": 2,
   "metadata": {},
   "outputs": [],
   "source": [
    "import os\n",
    "import shutil\n",
    "import numpy as np\n",
    "import pandas as pd\n",
    "from scipy.io import loadmat\n",
    "import matplotlib.pyplot as plt\n",
    "%matplotlib inline"
   ]
  },
  {
   "cell_type": "code",
   "execution_count": 3,
   "metadata": {},
   "outputs": [
    {
     "name": "stderr",
     "output_type": "stream",
     "text": [
      "/home/carlos/anaconda3/lib/python3.6/site-packages/h5py/__init__.py:36: FutureWarning: Conversion of the second argument of issubdtype from `float` to `np.floating` is deprecated. In future, it will be treated as `np.float64 == np.dtype(float).type`.\n",
      "  from ._conv import register_converters as _register_converters\n",
      "Using TensorFlow backend.\n"
     ]
    },
    {
     "name": "stdout",
     "output_type": "stream",
     "text": [
      "2.2.0\n"
     ]
    }
   ],
   "source": [
    "import keras\n",
    "print(keras.__version__)"
   ]
  },
  {
   "cell_type": "markdown",
   "metadata": {},
   "source": [
    "# 1. PREPARACIÓN DE AMBIENTES"
   ]
  },
  {
   "cell_type": "markdown",
   "metadata": {},
   "source": [
    "## Download de datos"
   ]
  },
  {
   "cell_type": "code",
   "execution_count": 4,
   "metadata": {},
   "outputs": [],
   "source": [
    "BASE_DIR = '/home/carlos/DigitalHouse/desafio'\n",
    "#BASE_DIR = 'C:/lab3'"
   ]
  },
  {
   "cell_type": "code",
   "execution_count": 5,
   "metadata": {},
   "outputs": [],
   "source": [
    "os.chdir(BASE_DIR)"
   ]
  },
  {
   "cell_type": "code",
   "execution_count": 6,
   "metadata": {
    "scrolled": true
   },
   "outputs": [],
   "source": [
    "%%bash\n",
    "\n",
    "if [ ! -f imdb_crop.tar ]; then\n",
    "    wget https://data.vision.ee.ethz.ch/cvl/rrothe/imdb-wiki/static/imdb_crop.tar\n",
    "fi\n",
    "if [ ! -d imdb_crop ]; then\n",
    "    tar xf imdb_crop.tar\n",
    "    echo \"DATOS IMDB YA ESTAN DISPONIBLES\" \n",
    "fi\n",
    "\n",
    "\n",
    "if [ ! -f wiki_crop.tar ]; then\n",
    "    wget https://data.vision.ee.ethz.ch/cvl/rrothe/imdb-wiki/static/wiki_crop.tar\n",
    "fi\n",
    "\n",
    "if [ ! -d wiki_crop ]; then\n",
    "    tar xf wiki_crop.tar\n",
    "    echo \"DATOS WIKI YA ESTAN DISPONIBLES\"\n",
    "fi\n"
   ]
  },
  {
   "cell_type": "markdown",
   "metadata": {},
   "source": [
    "## Obtención de metadata de las imágenes"
   ]
  },
  {
   "cell_type": "code",
   "execution_count": 7,
   "metadata": {},
   "outputs": [],
   "source": [
    "def get_metadata(mat_path, db='wiki'):\n",
    "    meta = loadmat(mat_path)\n",
    "    full_path = meta[db][0, 0][\"full_path\"][0]\n",
    "    gender = meta[db][0, 0][\"gender\"][0]\n",
    "    photo_taken = meta[db][0, 0][\"photo_taken\"][0]  # year\n",
    "    face_score = meta[db][0, 0][\"face_score\"][0]\n",
    "    second_face_score = meta[db][0, 0][\"second_face_score\"][0]\n",
    "    df = pd.DataFrame(gender, columns=['gender'])\n",
    "    df['face1'] = face_score\n",
    "    df['face2'] = second_face_score\n",
    "    df['path'] = [x[0] for x in full_path]\n",
    "    df['nogender'] = np.where(df.gender.isna(), True, False)\n",
    "    df['noface'] = np.where(df.face1 == -np.inf, True, False)\n",
    "    df['manyfaces'] = np.where(df.face2.isna(), False, True)\n",
    "    df['goodface'] = np.where(df.nogender | df.noface | df.manyfaces, False, True)\n",
    "    df['hombre'] = df.gender == 1.0\n",
    "    df['mujer'] = df.gender == 0.0\n",
    "    return df"
   ]
  },
  {
   "cell_type": "code",
   "execution_count": 8,
   "metadata": {},
   "outputs": [],
   "source": [
    "db = 'imdb'"
   ]
  },
  {
   "cell_type": "code",
   "execution_count": 9,
   "metadata": {
    "scrolled": true
   },
   "outputs": [
    {
     "name": "stdout",
     "output_type": "stream",
     "text": [
      "/home/carlos/DigitalHouse/desafio/imdb_crop/imdb.mat\n"
     ]
    },
    {
     "data": {
      "text/html": [
       "<div>\n",
       "<style scoped>\n",
       "    .dataframe tbody tr th:only-of-type {\n",
       "        vertical-align: middle;\n",
       "    }\n",
       "\n",
       "    .dataframe tbody tr th {\n",
       "        vertical-align: top;\n",
       "    }\n",
       "\n",
       "    .dataframe thead th {\n",
       "        text-align: right;\n",
       "    }\n",
       "</style>\n",
       "<table border=\"1\" class=\"dataframe\">\n",
       "  <thead>\n",
       "    <tr style=\"text-align: right;\">\n",
       "      <th></th>\n",
       "      <th>gender</th>\n",
       "      <th>face1</th>\n",
       "      <th>face2</th>\n",
       "      <th>path</th>\n",
       "      <th>nogender</th>\n",
       "      <th>noface</th>\n",
       "      <th>manyfaces</th>\n",
       "      <th>goodface</th>\n",
       "      <th>hombre</th>\n",
       "      <th>mujer</th>\n",
       "    </tr>\n",
       "  </thead>\n",
       "  <tbody>\n",
       "    <tr>\n",
       "      <th>0</th>\n",
       "      <td>1.0</td>\n",
       "      <td>1.459693</td>\n",
       "      <td>1.118973</td>\n",
       "      <td>01/nm0000001_rm124825600_1899-5-10_1968.jpg</td>\n",
       "      <td>False</td>\n",
       "      <td>False</td>\n",
       "      <td>True</td>\n",
       "      <td>False</td>\n",
       "      <td>True</td>\n",
       "      <td>False</td>\n",
       "    </tr>\n",
       "    <tr>\n",
       "      <th>1</th>\n",
       "      <td>1.0</td>\n",
       "      <td>2.543198</td>\n",
       "      <td>1.852008</td>\n",
       "      <td>01/nm0000001_rm3343756032_1899-5-10_1970.jpg</td>\n",
       "      <td>False</td>\n",
       "      <td>False</td>\n",
       "      <td>True</td>\n",
       "      <td>False</td>\n",
       "      <td>True</td>\n",
       "      <td>False</td>\n",
       "    </tr>\n",
       "    <tr>\n",
       "      <th>2</th>\n",
       "      <td>1.0</td>\n",
       "      <td>3.455579</td>\n",
       "      <td>2.985660</td>\n",
       "      <td>01/nm0000001_rm577153792_1899-5-10_1968.jpg</td>\n",
       "      <td>False</td>\n",
       "      <td>False</td>\n",
       "      <td>True</td>\n",
       "      <td>False</td>\n",
       "      <td>True</td>\n",
       "      <td>False</td>\n",
       "    </tr>\n",
       "    <tr>\n",
       "      <th>3</th>\n",
       "      <td>1.0</td>\n",
       "      <td>1.872117</td>\n",
       "      <td>NaN</td>\n",
       "      <td>01/nm0000001_rm946909184_1899-5-10_1968.jpg</td>\n",
       "      <td>False</td>\n",
       "      <td>False</td>\n",
       "      <td>False</td>\n",
       "      <td>True</td>\n",
       "      <td>True</td>\n",
       "      <td>False</td>\n",
       "    </tr>\n",
       "    <tr>\n",
       "      <th>4</th>\n",
       "      <td>1.0</td>\n",
       "      <td>1.158766</td>\n",
       "      <td>NaN</td>\n",
       "      <td>01/nm0000001_rm980463616_1899-5-10_1968.jpg</td>\n",
       "      <td>False</td>\n",
       "      <td>False</td>\n",
       "      <td>False</td>\n",
       "      <td>True</td>\n",
       "      <td>True</td>\n",
       "      <td>False</td>\n",
       "    </tr>\n",
       "  </tbody>\n",
       "</table>\n",
       "</div>"
      ],
      "text/plain": [
       "   gender     face1     face2                                          path  \\\n",
       "0     1.0  1.459693  1.118973   01/nm0000001_rm124825600_1899-5-10_1968.jpg   \n",
       "1     1.0  2.543198  1.852008  01/nm0000001_rm3343756032_1899-5-10_1970.jpg   \n",
       "2     1.0  3.455579  2.985660   01/nm0000001_rm577153792_1899-5-10_1968.jpg   \n",
       "3     1.0  1.872117       NaN   01/nm0000001_rm946909184_1899-5-10_1968.jpg   \n",
       "4     1.0  1.158766       NaN   01/nm0000001_rm980463616_1899-5-10_1968.jpg   \n",
       "\n",
       "   nogender  noface  manyfaces  goodface  hombre  mujer  \n",
       "0     False   False       True     False    True  False  \n",
       "1     False   False       True     False    True  False  \n",
       "2     False   False       True     False    True  False  \n",
       "3     False   False      False      True    True  False  \n",
       "4     False   False      False      True    True  False  "
      ]
     },
     "execution_count": 9,
     "metadata": {},
     "output_type": "execute_result"
    }
   ],
   "source": [
    "path = BASE_DIR + \"/\" + db + \"_crop/\"+ db + \".mat\"\n",
    "print(path)\n",
    "meta = get_metadata(path, db)\n",
    "meta.shape\n",
    "meta.head()"
   ]
  },
  {
   "cell_type": "markdown",
   "metadata": {},
   "source": [
    "# TOMAR LOS DATOS DE MAYOR CALIDAD"
   ]
  },
  {
   "cell_type": "code",
   "execution_count": 10,
   "metadata": {},
   "outputs": [],
   "source": [
    "meta2 = meta[meta.goodface].sort_values(by='face1', ascending=False)"
   ]
  },
  {
   "cell_type": "code",
   "execution_count": 11,
   "metadata": {},
   "outputs": [
    {
     "data": {
      "text/html": [
       "<div>\n",
       "<style scoped>\n",
       "    .dataframe tbody tr th:only-of-type {\n",
       "        vertical-align: middle;\n",
       "    }\n",
       "\n",
       "    .dataframe tbody tr th {\n",
       "        vertical-align: top;\n",
       "    }\n",
       "\n",
       "    .dataframe thead th {\n",
       "        text-align: right;\n",
       "    }\n",
       "</style>\n",
       "<table border=\"1\" class=\"dataframe\">\n",
       "  <thead>\n",
       "    <tr style=\"text-align: right;\">\n",
       "      <th></th>\n",
       "      <th>gender</th>\n",
       "      <th>face1</th>\n",
       "      <th>face2</th>\n",
       "      <th>path</th>\n",
       "      <th>nogender</th>\n",
       "      <th>noface</th>\n",
       "      <th>manyfaces</th>\n",
       "      <th>goodface</th>\n",
       "      <th>hombre</th>\n",
       "      <th>mujer</th>\n",
       "    </tr>\n",
       "  </thead>\n",
       "  <tbody>\n",
       "    <tr>\n",
       "      <th>69797</th>\n",
       "      <td>0.0</td>\n",
       "      <td>7.381689</td>\n",
       "      <td>NaN</td>\n",
       "      <td>72/nm0000572_rm3451099904_1965-3-25_2008.jpg</td>\n",
       "      <td>False</td>\n",
       "      <td>False</td>\n",
       "      <td>False</td>\n",
       "      <td>True</td>\n",
       "      <td>False</td>\n",
       "      <td>True</td>\n",
       "    </tr>\n",
       "    <tr>\n",
       "      <th>171089</th>\n",
       "      <td>0.0</td>\n",
       "      <td>7.196286</td>\n",
       "      <td>NaN</td>\n",
       "      <td>92/nm0005392_rm1126214912_1976-3-23_2013.jpg</td>\n",
       "      <td>False</td>\n",
       "      <td>False</td>\n",
       "      <td>False</td>\n",
       "      <td>True</td>\n",
       "      <td>False</td>\n",
       "      <td>True</td>\n",
       "    </tr>\n",
       "    <tr>\n",
       "      <th>29281</th>\n",
       "      <td>0.0</td>\n",
       "      <td>7.183938</td>\n",
       "      <td>NaN</td>\n",
       "      <td>04/nm0000204_rm1214421760_1981-6-9_1999.jpg</td>\n",
       "      <td>False</td>\n",
       "      <td>False</td>\n",
       "      <td>False</td>\n",
       "      <td>True</td>\n",
       "      <td>False</td>\n",
       "      <td>True</td>\n",
       "    </tr>\n",
       "    <tr>\n",
       "      <th>274825</th>\n",
       "      <td>1.0</td>\n",
       "      <td>7.169729</td>\n",
       "      <td>NaN</td>\n",
       "      <td>72/nm0134072_rm1979095808_1970-5-3_2007.jpg</td>\n",
       "      <td>False</td>\n",
       "      <td>False</td>\n",
       "      <td>False</td>\n",
       "      <td>True</td>\n",
       "      <td>True</td>\n",
       "      <td>False</td>\n",
       "    </tr>\n",
       "    <tr>\n",
       "      <th>24225</th>\n",
       "      <td>0.0</td>\n",
       "      <td>7.126821</td>\n",
       "      <td>NaN</td>\n",
       "      <td>82/nm0000182_rm1175359232_1969-7-24_2010.jpg</td>\n",
       "      <td>False</td>\n",
       "      <td>False</td>\n",
       "      <td>False</td>\n",
       "      <td>True</td>\n",
       "      <td>False</td>\n",
       "      <td>True</td>\n",
       "    </tr>\n",
       "  </tbody>\n",
       "</table>\n",
       "</div>"
      ],
      "text/plain": [
       "        gender     face1  face2                                          path  \\\n",
       "69797      0.0  7.381689    NaN  72/nm0000572_rm3451099904_1965-3-25_2008.jpg   \n",
       "171089     0.0  7.196286    NaN  92/nm0005392_rm1126214912_1976-3-23_2013.jpg   \n",
       "29281      0.0  7.183938    NaN   04/nm0000204_rm1214421760_1981-6-9_1999.jpg   \n",
       "274825     1.0  7.169729    NaN   72/nm0134072_rm1979095808_1970-5-3_2007.jpg   \n",
       "24225      0.0  7.126821    NaN  82/nm0000182_rm1175359232_1969-7-24_2010.jpg   \n",
       "\n",
       "        nogender  noface  manyfaces  goodface  hombre  mujer  \n",
       "69797      False   False      False      True   False   True  \n",
       "171089     False   False      False      True   False   True  \n",
       "29281      False   False      False      True   False   True  \n",
       "274825     False   False      False      True    True  False  \n",
       "24225      False   False      False      True   False   True  "
      ]
     },
     "execution_count": 11,
     "metadata": {},
     "output_type": "execute_result"
    }
   ],
   "source": [
    "meta2.head()"
   ]
  },
  {
   "cell_type": "markdown",
   "metadata": {},
   "source": [
    "## Tamaño de muestras\n"
   ]
  },
  {
   "cell_type": "code",
   "execution_count": 12,
   "metadata": {},
   "outputs": [],
   "source": [
    "NB_TRAIN, NB_VAL, NB_TEST = 20000, 10000, 10000"
   ]
  },
  {
   "cell_type": "markdown",
   "metadata": {},
   "source": [
    "# Seleccion de datos de buena calidad"
   ]
  },
  {
   "cell_type": "code",
   "execution_count": 13,
   "metadata": {},
   "outputs": [
    {
     "name": "stdout",
     "output_type": "stream",
     "text": [
      "40000 40000\n"
     ]
    }
   ],
   "source": [
    "m =  meta2[meta2.hombre][:NB_TRAIN + NB_VAL + NB_TEST]\n",
    "f =  meta2[meta2.mujer][:NB_TRAIN + NB_VAL + NB_TEST]\n",
    "print(len(m), len(f))"
   ]
  },
  {
   "cell_type": "code",
   "execution_count": 14,
   "metadata": {},
   "outputs": [],
   "source": [
    "mi = np.arange(len(m))\n",
    "fi = np.arange(len(f))\n",
    "np.random.shuffle(mi)\n",
    "np.random.shuffle(fi)"
   ]
  },
  {
   "cell_type": "markdown",
   "metadata": {},
   "source": [
    "## Armado de directorios"
   ]
  },
  {
   "cell_type": "code",
   "execution_count": 15,
   "metadata": {},
   "outputs": [],
   "source": [
    "%%bash\n",
    "\n",
    "rm -rf data2\n",
    "mkdir -p data2/train/m\n",
    "mkdir -p data2/train/f\n",
    "mkdir -p data2/test/m\n",
    "mkdir -p data2/test/f\n",
    "mkdir -p data2/val/m\n",
    "mkdir -p data2/val/f"
   ]
  },
  {
   "cell_type": "code",
   "execution_count": 16,
   "metadata": {},
   "outputs": [
    {
     "name": "stdout",
     "output_type": "stream",
     "text": [
      "/home/carlos/DigitalHouse/desafio/data2/train\n",
      "/home/carlos/DigitalHouse/desafio/data2/val\n",
      "/home/carlos/DigitalHouse/desafio/data2/test\n"
     ]
    }
   ],
   "source": [
    "DATA_DIR = BASE_DIR + '/data2'\n",
    "TRAIN_DIR = os.path.join(DATA_DIR, 'train')\n",
    "VAL_DIR = os.path.join(DATA_DIR, 'val')\n",
    "TEST_DIR = os.path.join(DATA_DIR, 'test')\n",
    "for x in [TRAIN_DIR, VAL_DIR, TEST_DIR]:\n",
    "    print(x)"
   ]
  },
  {
   "cell_type": "code",
   "execution_count": 17,
   "metadata": {},
   "outputs": [
    {
     "name": "stdout",
     "output_type": "stream",
     "text": [
      "/home/carlos/DigitalHouse/desafio/imdb_crop/\n"
     ]
    }
   ],
   "source": [
    "SOURCE_DIR = BASE_DIR + '/' + db + '_crop/'\n",
    "print(SOURCE_DIR)"
   ]
  },
  {
   "cell_type": "code",
   "execution_count": 18,
   "metadata": {},
   "outputs": [],
   "source": [
    "a, b, c = NB_TRAIN, NB_VAL, NB_TEST"
   ]
  },
  {
   "cell_type": "code",
   "execution_count": 19,
   "metadata": {},
   "outputs": [],
   "source": [
    "for i in mi[0:a]: shutil.copy(SOURCE_DIR + m.path.iloc[i], TRAIN_DIR + '/m')\n",
    "for i in mi[a:a+b]: shutil.copy(SOURCE_DIR + m.path.iloc[i], VAL_DIR + '/m')\n",
    "for i in mi[a+b:a+b+c]: shutil.copy(SOURCE_DIR + m.path.iloc[i], TEST_DIR + '/m')"
   ]
  },
  {
   "cell_type": "code",
   "execution_count": 20,
   "metadata": {},
   "outputs": [],
   "source": [
    "for i in fi[0:a]: shutil.copy(SOURCE_DIR + f.path.iloc[i], TRAIN_DIR + '/f')\n",
    "for i in fi[a:a+b]: shutil.copy(SOURCE_DIR + f.path.iloc[i], VAL_DIR + '/f')\n",
    "for i in fi[a+b:a+b+c]: shutil.copy(SOURCE_DIR + f.path.iloc[i], TEST_DIR + '/f')"
   ]
  },
  {
   "cell_type": "code",
   "execution_count": 21,
   "metadata": {
    "scrolled": true
   },
   "outputs": [
    {
     "name": "stdout",
     "output_type": "stream",
     "text": [
      "20000 images in /home/carlos/DigitalHouse/desafio/data2/train/f\n",
      "20000 images in /home/carlos/DigitalHouse/desafio/data2/train/m\n",
      "10000 images in /home/carlos/DigitalHouse/desafio/data2/val/f\n",
      "10000 images in /home/carlos/DigitalHouse/desafio/data2/val/m\n",
      "10000 images in /home/carlos/DigitalHouse/desafio/data2/test/f\n",
      "10000 images in /home/carlos/DigitalHouse/desafio/data2/test/m\n"
     ]
    }
   ],
   "source": [
    "for x in [TRAIN_DIR, VAL_DIR, TEST_DIR]:\n",
    "    for y in ['/f', '/m']:\n",
    "        z = x + y\n",
    "        print(len(os.listdir(z)), 'images in', z)"
   ]
  },
  {
   "cell_type": "markdown",
   "metadata": {},
   "source": [
    "# Feature Extraction - VGG16"
   ]
  },
  {
   "cell_type": "code",
   "execution_count": 22,
   "metadata": {},
   "outputs": [],
   "source": [
    "from keras.applications import  VGG16\n",
    "conv_base = VGG16(weights = 'imagenet', include_top=False, input_shape=(150, 150, 3))"
   ]
  },
  {
   "cell_type": "code",
   "execution_count": 23,
   "metadata": {},
   "outputs": [],
   "source": [
    "from keras.preprocessing.image import ImageDataGenerator\n",
    "datagen = ImageDataGenerator(rescale=1.0/255)"
   ]
  },
  {
   "cell_type": "code",
   "execution_count": 24,
   "metadata": {},
   "outputs": [],
   "source": [
    "batch_size = 20"
   ]
  },
  {
   "cell_type": "code",
   "execution_count": 25,
   "metadata": {},
   "outputs": [],
   "source": [
    "def extract_features(directory, sample_count):\n",
    "    features = np.zeros(shape=(sample_count, 4, 4, 512))\n",
    "    labels = np.zeros(shape=(sample_count))\n",
    "    generator = datagen.flow_from_directory(\n",
    "        directory,\n",
    "        target_size=(150, 150),\n",
    "        batch_size=batch_size,\n",
    "        class_mode='binary')\n",
    "    i = 0\n",
    "    for inputs_batch, labels_batch in generator:\n",
    "        features_batch = conv_base.predict(inputs_batch)\n",
    "        features[i * batch_size : (i + 1) * batch_size] = features_batch\n",
    "        labels[i * batch_size : (i + 1) * batch_size] = labels_batch\n",
    "        i += 1\n",
    "        if i * batch_size >= sample_count:\n",
    "            break\n",
    "    return features, labels"
   ]
  },
  {
   "cell_type": "code",
   "execution_count": 26,
   "metadata": {},
   "outputs": [
    {
     "name": "stdout",
     "output_type": "stream",
     "text": [
      "Found 40000 images belonging to 2 classes.\n",
      "Found 20000 images belonging to 2 classes.\n",
      "Found 20000 images belonging to 2 classes.\n"
     ]
    }
   ],
   "source": [
    "train_features, train_labels = extract_features(TRAIN_DIR, NB_TRAIN)\n",
    "validation_features, validation_labels = extract_features(VAL_DIR, NB_VAL)\n",
    "test_features, test_labels = extract_features(TEST_DIR, NB_TEST)"
   ]
  },
  {
   "cell_type": "code",
   "execution_count": 27,
   "metadata": {},
   "outputs": [],
   "source": [
    "train_features = np.reshape(train_features, (NB_TRAIN, 4 * 4 * 512))\n",
    "validation_features = np.reshape(validation_features, (NB_VAL, 4 * 4 * 512))\n",
    "test_features = np.reshape(test_features, (NB_TEST, 4 * 4 * 512))"
   ]
  },
  {
   "cell_type": "code",
   "execution_count": 28,
   "metadata": {},
   "outputs": [],
   "source": [
    "from keras import models\n",
    "from keras import layers\n",
    "from keras import optimizers"
   ]
  },
  {
   "cell_type": "code",
   "execution_count": 29,
   "metadata": {},
   "outputs": [],
   "source": [
    "def create_model_FE_VGG(neurons=256, dropout=0.0, bn=False):\n",
    "    model = models.Sequential()\n",
    "    model.add(layers.Dense(neurons, activation='relu', input_dim=4 * 4 * 512))\n",
    "    \n",
    "    if dropout > 0.0:\n",
    "        model.add(layers.Dropout(dropout))\n",
    "        \n",
    "    if bn:\n",
    "        model.add(layers.BatchNormalization())\n",
    "        \n",
    "    model.add(layers.Dense(1, activation='sigmoid'))\n",
    "    model.summary()\n",
    "    model.compile(\n",
    "        optimizer = optimizers.RMSprop(lr=2e-5),\n",
    "        loss = 'binary_crossentropy',\n",
    "        metrics = ['acc'])\n",
    "    return model"
   ]
  },
  {
   "cell_type": "code",
   "execution_count": 30,
   "metadata": {},
   "outputs": [
    {
     "name": "stdout",
     "output_type": "stream",
     "text": [
      "_________________________________________________________________\n",
      "Layer (type)                 Output Shape              Param #   \n",
      "=================================================================\n",
      "dense_1 (Dense)              (None, 256)               2097408   \n",
      "_________________________________________________________________\n",
      "dropout_1 (Dropout)          (None, 256)               0         \n",
      "_________________________________________________________________\n",
      "dense_2 (Dense)              (None, 1)                 257       \n",
      "=================================================================\n",
      "Total params: 2,097,665\n",
      "Trainable params: 2,097,665\n",
      "Non-trainable params: 0\n",
      "_________________________________________________________________\n",
      "_________________________________________________________________\n",
      "Layer (type)                 Output Shape              Param #   \n",
      "=================================================================\n",
      "dense_3 (Dense)              (None, 1024)              8389632   \n",
      "_________________________________________________________________\n",
      "dropout_2 (Dropout)          (None, 1024)              0         \n",
      "_________________________________________________________________\n",
      "batch_normalization_1 (Batch (None, 1024)              4096      \n",
      "_________________________________________________________________\n",
      "dense_4 (Dense)              (None, 1)                 1025      \n",
      "=================================================================\n",
      "Total params: 8,394,753\n",
      "Trainable params: 8,392,705\n",
      "Non-trainable params: 2,048\n",
      "_________________________________________________________________\n",
      "_________________________________________________________________\n",
      "Layer (type)                 Output Shape              Param #   \n",
      "=================================================================\n",
      "dense_5 (Dense)              (None, 1024)              8389632   \n",
      "_________________________________________________________________\n",
      "dropout_3 (Dropout)          (None, 1024)              0         \n",
      "_________________________________________________________________\n",
      "batch_normalization_2 (Batch (None, 1024)              4096      \n",
      "_________________________________________________________________\n",
      "dense_6 (Dense)              (None, 1)                 1025      \n",
      "=================================================================\n",
      "Total params: 8,394,753\n",
      "Trainable params: 8,392,705\n",
      "Non-trainable params: 2,048\n",
      "_________________________________________________________________\n"
     ]
    }
   ],
   "source": [
    "m1 = create_model_FE_VGG(256, 0.5)\n",
    "m2 = create_model_FE_VGG(1024, 0.5, True )\n",
    "m3 = create_model_FE_VGG(1024, 0.2, True )"
   ]
  },
  {
   "cell_type": "code",
   "execution_count": 31,
   "metadata": {},
   "outputs": [
    {
     "name": "stdout",
     "output_type": "stream",
     "text": [
      "Train on 20000 samples, validate on 10000 samples\n",
      "Epoch 1/30\n",
      "20000/20000 [==============================] - 4s 223us/step - loss: 0.3418 - acc: 0.8555 - val_loss: 0.2441 - val_acc: 0.9099\n",
      "Epoch 2/30\n",
      "20000/20000 [==============================] - 3s 167us/step - loss: 0.2482 - acc: 0.9073 - val_loss: 0.2228 - val_acc: 0.9183\n",
      "Epoch 3/30\n",
      "20000/20000 [==============================] - 4s 178us/step - loss: 0.2279 - acc: 0.9158 - val_loss: 0.2133 - val_acc: 0.9206\n",
      "Epoch 4/30\n",
      "20000/20000 [==============================] - 3s 171us/step - loss: 0.2149 - acc: 0.9233 - val_loss: 0.2077 - val_acc: 0.9231\n",
      "Epoch 5/30\n",
      "20000/20000 [==============================] - 3s 161us/step - loss: 0.2086 - acc: 0.9252 - val_loss: 0.2048 - val_acc: 0.9242\n",
      "Epoch 6/30\n",
      "20000/20000 [==============================] - 4s 184us/step - loss: 0.2015 - acc: 0.9295 - val_loss: 0.2017 - val_acc: 0.9270\n",
      "Epoch 7/30\n",
      "20000/20000 [==============================] - 3s 174us/step - loss: 0.1968 - acc: 0.9317 - val_loss: 0.2033 - val_acc: 0.9254\n",
      "Epoch 8/30\n",
      "20000/20000 [==============================] - 4s 215us/step - loss: 0.1935 - acc: 0.9324 - val_loss: 0.2000 - val_acc: 0.9296\n",
      "Epoch 9/30\n",
      "20000/20000 [==============================] - 4s 184us/step - loss: 0.1890 - acc: 0.9354 - val_loss: 0.2001 - val_acc: 0.9279\n",
      "Epoch 10/30\n",
      "20000/20000 [==============================] - 3s 170us/step - loss: 0.1850 - acc: 0.9371 - val_loss: 0.1994 - val_acc: 0.9271\n",
      "Epoch 11/30\n",
      "20000/20000 [==============================] - 4s 179us/step - loss: 0.1844 - acc: 0.9397 - val_loss: 0.1999 - val_acc: 0.9293\n",
      "Epoch 12/30\n",
      "20000/20000 [==============================] - 4s 186us/step - loss: 0.1806 - acc: 0.9396 - val_loss: 0.1992 - val_acc: 0.9299\n",
      "Epoch 13/30\n",
      "20000/20000 [==============================] - 4s 183us/step - loss: 0.1780 - acc: 0.9411 - val_loss: 0.2003 - val_acc: 0.9305\n",
      "Epoch 14/30\n",
      "20000/20000 [==============================] - 3s 172us/step - loss: 0.1756 - acc: 0.9425 - val_loss: 0.2026 - val_acc: 0.9294\n",
      "Epoch 15/30\n",
      "20000/20000 [==============================] - 4s 178us/step - loss: 0.1747 - acc: 0.9435 - val_loss: 0.2086 - val_acc: 0.9268\n",
      "Epoch 16/30\n",
      "20000/20000 [==============================] - 4s 176us/step - loss: 0.1742 - acc: 0.9424 - val_loss: 0.2049 - val_acc: 0.9286\n",
      "Epoch 17/30\n",
      "20000/20000 [==============================] - 4s 176us/step - loss: 0.1700 - acc: 0.9436 - val_loss: 0.2054 - val_acc: 0.9299\n",
      "Epoch 18/30\n",
      "20000/20000 [==============================] - 4s 177us/step - loss: 0.1699 - acc: 0.9463 - val_loss: 0.2060 - val_acc: 0.9309\n",
      "Epoch 19/30\n",
      "20000/20000 [==============================] - 4s 201us/step - loss: 0.1675 - acc: 0.9463 - val_loss: 0.2048 - val_acc: 0.9314\n",
      "Epoch 20/30\n",
      "20000/20000 [==============================] - 4s 184us/step - loss: 0.1664 - acc: 0.9477 - val_loss: 0.2054 - val_acc: 0.9317\n",
      "Epoch 21/30\n",
      "20000/20000 [==============================] - 3s 169us/step - loss: 0.1638 - acc: 0.9494 - val_loss: 0.2081 - val_acc: 0.9307\n",
      "Epoch 22/30\n",
      "20000/20000 [==============================] - 4s 177us/step - loss: 0.1631 - acc: 0.9494 - val_loss: 0.2096 - val_acc: 0.9301\n",
      "Epoch 23/30\n",
      "20000/20000 [==============================] - 3s 153us/step - loss: 0.1605 - acc: 0.9503 - val_loss: 0.2106 - val_acc: 0.9312\n",
      "Epoch 24/30\n",
      "20000/20000 [==============================] - 3s 171us/step - loss: 0.1622 - acc: 0.9506 - val_loss: 0.2150 - val_acc: 0.9288\n",
      "Epoch 25/30\n",
      "20000/20000 [==============================] - 3s 169us/step - loss: 0.1605 - acc: 0.9506 - val_loss: 0.2093 - val_acc: 0.9317\n",
      "Epoch 26/30\n",
      "20000/20000 [==============================] - 4s 190us/step - loss: 0.1579 - acc: 0.9511 - val_loss: 0.2150 - val_acc: 0.9281\n",
      "Epoch 27/30\n",
      "20000/20000 [==============================] - 3s 168us/step - loss: 0.1566 - acc: 0.9512 - val_loss: 0.2135 - val_acc: 0.9311\n",
      "Epoch 28/30\n",
      "20000/20000 [==============================] - 4s 186us/step - loss: 0.1574 - acc: 0.9537 - val_loss: 0.2131 - val_acc: 0.9318\n",
      "Epoch 29/30\n",
      "20000/20000 [==============================] - 3s 166us/step - loss: 0.1532 - acc: 0.9533 - val_loss: 0.2162 - val_acc: 0.9318\n",
      "Epoch 30/30\n",
      "20000/20000 [==============================] - 4s 178us/step - loss: 0.1536 - acc: 0.9530 - val_loss: 0.2170 - val_acc: 0.9300\n"
     ]
    }
   ],
   "source": [
    "m1_hist = m1.fit(train_features, train_labels,epochs=30, batch_size=20,\n",
    "                 validation_data=(validation_features, validation_labels))"
   ]
  },
  {
   "cell_type": "code",
   "execution_count": 32,
   "metadata": {},
   "outputs": [
    {
     "name": "stdout",
     "output_type": "stream",
     "text": [
      "Train on 20000 samples, validate on 10000 samples\n",
      "Epoch 1/10\n",
      "20000/20000 [==============================] - 7s 370us/step - loss: 0.3325 - acc: 0.8590 - val_loss: 0.2169 - val_acc: 0.9196\n",
      "Epoch 2/10\n",
      "20000/20000 [==============================] - 7s 351us/step - loss: 0.2586 - acc: 0.9019 - val_loss: 0.2067 - val_acc: 0.9252\n",
      "Epoch 3/10\n",
      "20000/20000 [==============================] - 7s 346us/step - loss: 0.2360 - acc: 0.9096 - val_loss: 0.1992 - val_acc: 0.9287\n",
      "Epoch 4/10\n",
      "20000/20000 [==============================] - 7s 347us/step - loss: 0.2195 - acc: 0.9180 - val_loss: 0.1973 - val_acc: 0.9319\n",
      "Epoch 5/10\n",
      "20000/20000 [==============================] - 7s 332us/step - loss: 0.2077 - acc: 0.9243 - val_loss: 0.1974 - val_acc: 0.9316\n",
      "Epoch 6/10\n",
      "20000/20000 [==============================] - 7s 357us/step - loss: 0.1988 - acc: 0.9285 - val_loss: 0.1967 - val_acc: 0.9300\n",
      "Epoch 7/10\n",
      "20000/20000 [==============================] - 7s 374us/step - loss: 0.1891 - acc: 0.9316 - val_loss: 0.1955 - val_acc: 0.9314\n",
      "Epoch 8/10\n",
      "20000/20000 [==============================] - 7s 339us/step - loss: 0.1862 - acc: 0.9327 - val_loss: 0.1943 - val_acc: 0.9326\n",
      "Epoch 9/10\n",
      "20000/20000 [==============================] - 7s 354us/step - loss: 0.1709 - acc: 0.9387 - val_loss: 0.1920 - val_acc: 0.9325\n",
      "Epoch 10/10\n",
      "20000/20000 [==============================] - 7s 374us/step - loss: 0.1635 - acc: 0.9416 - val_loss: 0.1942 - val_acc: 0.9331\n"
     ]
    }
   ],
   "source": [
    "m2_hist = m2.fit(train_features, train_labels,epochs=10, batch_size=20,\n",
    "                 validation_data=(validation_features, validation_labels))"
   ]
  },
  {
   "cell_type": "code",
   "execution_count": 33,
   "metadata": {},
   "outputs": [
    {
     "name": "stdout",
     "output_type": "stream",
     "text": [
      "Train on 20000 samples, validate on 10000 samples\n",
      "Epoch 1/10\n",
      "20000/20000 [==============================] - 7s 337us/step - loss: 0.2976 - acc: 0.8820 - val_loss: 0.2115 - val_acc: 0.9243\n",
      "Epoch 2/10\n",
      "20000/20000 [==============================] - 7s 345us/step - loss: 0.2300 - acc: 0.9155 - val_loss: 0.2083 - val_acc: 0.9246\n",
      "Epoch 3/10\n",
      "20000/20000 [==============================] - 7s 340us/step - loss: 0.2046 - acc: 0.9247 - val_loss: 0.2004 - val_acc: 0.9293\n",
      "Epoch 4/10\n",
      "20000/20000 [==============================] - 6s 321us/step - loss: 0.1818 - acc: 0.9337 - val_loss: 0.2072 - val_acc: 0.9248\n",
      "Epoch 5/10\n",
      "20000/20000 [==============================] - 7s 343us/step - loss: 0.1659 - acc: 0.9400 - val_loss: 0.2074 - val_acc: 0.9260\n",
      "Epoch 6/10\n",
      "20000/20000 [==============================] - 7s 348us/step - loss: 0.1515 - acc: 0.9466 - val_loss: 0.2145 - val_acc: 0.9228\n",
      "Epoch 7/10\n",
      "20000/20000 [==============================] - 7s 364us/step - loss: 0.1458 - acc: 0.9482 - val_loss: 0.2023 - val_acc: 0.9312\n",
      "Epoch 8/10\n",
      "20000/20000 [==============================] - 7s 346us/step - loss: 0.1243 - acc: 0.9572 - val_loss: 0.2122 - val_acc: 0.9270\n",
      "Epoch 9/10\n",
      "20000/20000 [==============================] - 7s 350us/step - loss: 0.1102 - acc: 0.9616 - val_loss: 0.2040 - val_acc: 0.9294\n",
      "Epoch 10/10\n",
      "20000/20000 [==============================] - 7s 357us/step - loss: 0.1004 - acc: 0.9670 - val_loss: 0.2158 - val_acc: 0.9260\n"
     ]
    }
   ],
   "source": [
    "m3_hist = m3.fit(train_features, train_labels,epochs=10, batch_size=20,\n",
    "                 validation_data=(validation_features, validation_labels))"
   ]
  },
  {
   "cell_type": "code",
   "execution_count": 34,
   "metadata": {},
   "outputs": [],
   "source": [
    "def plot_hist(hist, titulo=''):\n",
    "    \"\"\"\n",
    "    Plots history of epochs accuracy and loss\n",
    "    \"\"\"\n",
    "    acc = hist.history['acc']\n",
    "    val_acc = hist.history['val_acc']\n",
    "    loss = hist.history['loss']\n",
    "    val_loss = hist.history['val_loss']\n",
    "    epochs = range(len(acc))\n",
    "    plt.figure(figsize=(10,8))\n",
    "    plt.plot(epochs, acc, 'bo', label='Training acc')\n",
    "    plt.plot(epochs, val_acc, 'b', label='Validation acc')\n",
    "    plt.hlines(y=val_acc[-1], xmin=0, xmax=np.max(epochs), linewidth=2, color='r', linestyles='dotted')\n",
    "    plt.title('ACCURACY ' + titulo)\n",
    "    plt.legend()\n",
    "    plt.figure(figsize=(10,8))\n",
    "    plt.plot(epochs, loss, 'bo', label='Training loss')\n",
    "    plt.plot(epochs, val_loss, 'b', label='Validation loss')\n",
    "    plt.title('LOSS ' + titulo)\n",
    "    plt.legend()\n",
    "    plt.show()\n",
    "    return"
   ]
  },
  {
   "cell_type": "code",
   "execution_count": 35,
   "metadata": {},
   "outputs": [
    {
     "name": "stdout",
     "output_type": "stream",
     "text": [
      "10000/10000 [==============================] - 0s 44us/step\n",
      "Model 1: Test Accuracy: 0.9303\n",
      "10000/10000 [==============================] - 1s 51us/step\n",
      "Model 2: Test Accuracy: 0.9328\n",
      "10000/10000 [==============================] - 1s 51us/step\n",
      "Model 3: Test Accuracy: 0.9248\n"
     ]
    }
   ],
   "source": [
    "loss1, acc1 = m1.evaluate(test_features, test_labels)\n",
    "print(\"Model 1: Test Accuracy:\", acc1)\n",
    "loss2, acc2 = m2.evaluate(test_features, test_labels)\n",
    "print(\"Model 2: Test Accuracy:\", acc2)\n",
    "loss3, acc3 = m3.evaluate(test_features, test_labels)\n",
    "print(\"Model 3: Test Accuracy:\", acc3)"
   ]
  },
  {
   "cell_type": "code",
   "execution_count": 36,
   "metadata": {},
   "outputs": [
    {
     "data": {
      "image/png": "[encoded data removed]",
      "text/plain": [
       "<Figure size 720x576 with 1 Axes>"
      ]
     },
     "metadata": {},
     "output_type": "display_data"
    },
    {
     "data": {
      "image/png": "[encoded data removed]",
      "text/plain": [
       "<Figure size 720x576 with 1 Axes>"
      ]
     },
     "metadata": {},
     "output_type": "display_data"
    }
   ],
   "source": [
    "plot_hist(m1_hist, 'Model 1')"
   ]
  },
  {
   "cell_type": "code",
   "execution_count": 37,
   "metadata": {},
   "outputs": [
    {
     "data": {
      "image/png": "[encoded data removed]",
      "text/plain": [
       "<Figure size 720x576 with 1 Axes>"
      ]
     },
     "metadata": {},
     "output_type": "display_data"
    },
    {
     "data": {
      "image/png": "[encoded data removed]",
      "text/plain": [
       "<Figure size 720x576 with 1 Axes>"
      ]
     },
     "metadata": {},
     "output_type": "display_data"
    }
   ],
   "source": [
    "plot_hist(m2_hist, 'Model 2')"
   ]
  },
  {
   "cell_type": "code",
   "execution_count": 38,
   "metadata": {
    "scrolled": true
   },
   "outputs": [
    {
     "data": {
      "image/png": "[encoded data removed]",
      "text/plain": [
       "<Figure size 720x576 with 1 Axes>"
      ]
     },
     "metadata": {},
     "output_type": "display_data"
    },
    {
     "data": {
      "image/png": "[encoded data removed]",
      "text/plain": [
       "<Figure size 720x576 with 1 Axes>"
      ]
     },
     "metadata": {},
     "output_type": "display_data"
    }
   ],
   "source": [
    "plot_hist(m3_hist, 'Model 3')"
   ]
  },
  {
   "cell_type": "markdown",
   "metadata": {},
   "source": [
    "# Feature Extraction - InceptionV3"
   ]
  },
  {
   "cell_type": "code",
   "execution_count": 39,
   "metadata": {},
   "outputs": [],
   "source": [
    "from keras.applications import InceptionV3\n",
    "conv_base3 = InceptionV3(weights = 'imagenet', include_top=False, input_shape=(150, 150, 3))"
   ]
  },
  {
   "cell_type": "code",
   "execution_count": 40,
   "metadata": {},
   "outputs": [],
   "source": [
    "def extract_features_I3(directory, sample_count):\n",
    "    features = np.zeros(shape=(sample_count, 3, 3, 2048))\n",
    "    labels = np.zeros(shape=(sample_count))\n",
    "    generator = datagen.flow_from_directory(\n",
    "        directory,\n",
    "        target_size=(150, 150),\n",
    "        batch_size=batch_size,\n",
    "        class_mode='binary')\n",
    "    i = 0\n",
    "    for inputs_batch, labels_batch in generator:\n",
    "        features_batch = conv_base3.predict(inputs_batch)\n",
    "        features[i * batch_size : (i + 1) * batch_size] = features_batch\n",
    "        labels[i * batch_size : (i + 1) * batch_size] = labels_batch\n",
    "        i += 1\n",
    "        if i * batch_size >= sample_count:\n",
    "            break\n",
    "    return features, labels"
   ]
  },
  {
   "cell_type": "code",
   "execution_count": 41,
   "metadata": {},
   "outputs": [
    {
     "name": "stdout",
     "output_type": "stream",
     "text": [
      "Found 40000 images belonging to 2 classes.\n",
      "Found 20000 images belonging to 2 classes.\n",
      "Found 20000 images belonging to 2 classes.\n"
     ]
    }
   ],
   "source": [
    "train_features, train_labels = extract_features_I3(TRAIN_DIR, NB_TRAIN)\n",
    "validation_features, validation_labels = extract_features_I3(VAL_DIR, NB_VAL)\n",
    "test_features, test_labels = extract_features_I3(TEST_DIR, NB_TEST)\n",
    "train_features = np.reshape(train_features, (NB_TRAIN, 3 * 3 * 2048))\n",
    "validation_features = np.reshape(validation_features, (NB_VAL, 3 * 3 * 2048))\n",
    "test_features = np.reshape(test_features, (NB_TEST, 3 * 3 * 2048))"
   ]
  },
  {
   "cell_type": "code",
   "execution_count": 42,
   "metadata": {},
   "outputs": [],
   "source": [
    "def create_model_FE_I3(neurons=256, dropout=0.5, bn=False):\n",
    "    model = models.Sequential()\n",
    "    model.add(layers.Dense(neurons, activation='relu', input_dim=3 * 3 * 2048))    \n",
    "    if dropout >= 0.0:\n",
    "        model.add(layers.Dropout(dropout))        \n",
    "    if bn:\n",
    "        model.add(layers.BatchNormalization())        \n",
    "    model.add(layers.Dense(1, activation='sigmoid'))\n",
    "    model.summary()\n",
    "    model.compile(\n",
    "        optimizer = optimizers.RMSprop(lr=2e-5),\n",
    "        loss = 'binary_crossentropy',\n",
    "        metrics = ['acc'])\n",
    "    return model"
   ]
  },
  {
   "cell_type": "code",
   "execution_count": 43,
   "metadata": {},
   "outputs": [
    {
     "name": "stdout",
     "output_type": "stream",
     "text": [
      "_________________________________________________________________\n",
      "Layer (type)                 Output Shape              Param #   \n",
      "=================================================================\n",
      "dense_7 (Dense)              (None, 256)               4718848   \n",
      "_________________________________________________________________\n",
      "dropout_4 (Dropout)          (None, 256)               0         \n",
      "_________________________________________________________________\n",
      "dense_8 (Dense)              (None, 1)                 257       \n",
      "=================================================================\n",
      "Total params: 4,719,105\n",
      "Trainable params: 4,719,105\n",
      "Non-trainable params: 0\n",
      "_________________________________________________________________\n",
      "_________________________________________________________________\n",
      "Layer (type)                 Output Shape              Param #   \n",
      "=================================================================\n",
      "dense_9 (Dense)              (None, 1024)              18875392  \n",
      "_________________________________________________________________\n",
      "dropout_5 (Dropout)          (None, 1024)              0         \n",
      "_________________________________________________________________\n",
      "dense_10 (Dense)             (None, 1)                 1025      \n",
      "=================================================================\n",
      "Total params: 18,876,417\n",
      "Trainable params: 18,876,417\n",
      "Non-trainable params: 0\n",
      "_________________________________________________________________\n",
      "_________________________________________________________________\n",
      "Layer (type)                 Output Shape              Param #   \n",
      "=================================================================\n",
      "dense_11 (Dense)             (None, 1024)              18875392  \n",
      "_________________________________________________________________\n",
      "dropout_6 (Dropout)          (None, 1024)              0         \n",
      "_________________________________________________________________\n",
      "batch_normalization_97 (Batc (None, 1024)              4096      \n",
      "_________________________________________________________________\n",
      "dense_12 (Dense)             (None, 1)                 1025      \n",
      "=================================================================\n",
      "Total params: 18,880,513\n",
      "Trainable params: 18,878,465\n",
      "Non-trainable params: 2,048\n",
      "_________________________________________________________________\n"
     ]
    }
   ],
   "source": [
    "m4 = create_model_FE_I3()\n",
    "m5 = create_model_FE_I3(1024)\n",
    "m6 = create_model_FE_I3(1024, 0.2, True)"
   ]
  },
  {
   "cell_type": "code",
   "execution_count": 44,
   "metadata": {},
   "outputs": [
    {
     "name": "stdout",
     "output_type": "stream",
     "text": [
      "Train on 20000 samples, validate on 10000 samples\n",
      "Epoch 1/30\n",
      "20000/20000 [==============================] - 8s 411us/step - loss: 0.2996 - acc: 0.8971 - val_loss: 0.2342 - val_acc: 0.9143\n",
      "Epoch 2/30\n",
      "20000/20000 [==============================] - 7s 365us/step - loss: 0.2410 - acc: 0.9189 - val_loss: 0.2374 - val_acc: 0.9177\n",
      "Epoch 3/30\n",
      "20000/20000 [==============================] - 7s 368us/step - loss: 0.2253 - acc: 0.9254 - val_loss: 0.2371 - val_acc: 0.9197\n",
      "Epoch 4/30\n",
      "20000/20000 [==============================] - 7s 370us/step - loss: 0.2065 - acc: 0.9297 - val_loss: 0.2444 - val_acc: 0.9199\n",
      "Epoch 5/30\n",
      "20000/20000 [==============================] - 8s 383us/step - loss: 0.1913 - acc: 0.9368 - val_loss: 0.2507 - val_acc: 0.9209\n",
      "Epoch 6/30\n",
      "20000/20000 [==============================] - 7s 356us/step - loss: 0.1812 - acc: 0.9403 - val_loss: 0.2440 - val_acc: 0.9242\n",
      "Epoch 7/30\n",
      "20000/20000 [==============================] - 7s 366us/step - loss: 0.1722 - acc: 0.9442 - val_loss: 0.2540 - val_acc: 0.9229\n",
      "Epoch 8/30\n",
      "20000/20000 [==============================] - 7s 362us/step - loss: 0.1640 - acc: 0.9456 - val_loss: 0.2584 - val_acc: 0.9237\n",
      "Epoch 9/30\n",
      "20000/20000 [==============================] - 7s 337us/step - loss: 0.1557 - acc: 0.9510 - val_loss: 0.2420 - val_acc: 0.9266\n",
      "Epoch 10/30\n",
      "20000/20000 [==============================] - 7s 351us/step - loss: 0.1488 - acc: 0.9515 - val_loss: 0.2888 - val_acc: 0.9192\n",
      "Epoch 11/30\n",
      "20000/20000 [==============================] - 8s 382us/step - loss: 0.1405 - acc: 0.9553 - val_loss: 0.2734 - val_acc: 0.9258\n",
      "Epoch 12/30\n",
      "20000/20000 [==============================] - 7s 367us/step - loss: 0.1334 - acc: 0.9577 - val_loss: 0.2669 - val_acc: 0.9254\n",
      "Epoch 13/30\n",
      "20000/20000 [==============================] - 7s 352us/step - loss: 0.1265 - acc: 0.9593 - val_loss: 0.3245 - val_acc: 0.9252\n",
      "Epoch 14/30\n",
      "20000/20000 [==============================] - 7s 365us/step - loss: 0.1254 - acc: 0.9609 - val_loss: 0.2850 - val_acc: 0.9243\n",
      "Epoch 15/30\n",
      "20000/20000 [==============================] - 7s 366us/step - loss: 0.1184 - acc: 0.9631 - val_loss: 0.2905 - val_acc: 0.9245\n",
      "Epoch 16/30\n",
      "20000/20000 [==============================] - 8s 400us/step - loss: 0.1124 - acc: 0.9644 - val_loss: 0.3045 - val_acc: 0.9258\n",
      "Epoch 17/30\n",
      "20000/20000 [==============================] - 8s 393us/step - loss: 0.1079 - acc: 0.9651 - val_loss: 0.3407 - val_acc: 0.9162\n",
      "Epoch 18/30\n",
      "20000/20000 [==============================] - 8s 394us/step - loss: 0.1061 - acc: 0.9668 - val_loss: 0.2963 - val_acc: 0.9261\n",
      "Epoch 19/30\n",
      "20000/20000 [==============================] - 8s 382us/step - loss: 0.0996 - acc: 0.9670 - val_loss: 0.3368 - val_acc: 0.9198\n",
      "Epoch 20/30\n",
      "20000/20000 [==============================] - 8s 378us/step - loss: 0.0977 - acc: 0.9699 - val_loss: 0.3196 - val_acc: 0.9235\n",
      "Epoch 21/30\n",
      "20000/20000 [==============================] - 7s 365us/step - loss: 0.0931 - acc: 0.9699 - val_loss: 0.3307 - val_acc: 0.9251\n",
      "Epoch 22/30\n",
      "20000/20000 [==============================] - 8s 376us/step - loss: 0.0925 - acc: 0.9711 - val_loss: 0.3331 - val_acc: 0.9236\n",
      "Epoch 23/30\n",
      "20000/20000 [==============================] - 7s 361us/step - loss: 0.0881 - acc: 0.9730 - val_loss: 0.3368 - val_acc: 0.9218\n",
      "Epoch 24/30\n",
      "20000/20000 [==============================] - 7s 343us/step - loss: 0.0860 - acc: 0.9736 - val_loss: 0.3399 - val_acc: 0.9254\n",
      "Epoch 25/30\n",
      "20000/20000 [==============================] - 7s 375us/step - loss: 0.0797 - acc: 0.9767 - val_loss: 0.3435 - val_acc: 0.9227\n",
      "Epoch 26/30\n",
      "20000/20000 [==============================] - 7s 351us/step - loss: 0.0757 - acc: 0.9769 - val_loss: 0.3458 - val_acc: 0.9230\n",
      "Epoch 27/30\n",
      "20000/20000 [==============================] - 7s 350us/step - loss: 0.0734 - acc: 0.9769 - val_loss: 0.3533 - val_acc: 0.9237\n",
      "Epoch 28/30\n",
      "20000/20000 [==============================] - 8s 385us/step - loss: 0.0743 - acc: 0.9767 - val_loss: 0.3702 - val_acc: 0.9236\n",
      "Epoch 29/30\n",
      "20000/20000 [==============================] - 7s 375us/step - loss: 0.0716 - acc: 0.9793 - val_loss: 0.3646 - val_acc: 0.9221\n",
      "Epoch 30/30\n",
      "20000/20000 [==============================] - 7s 334us/step - loss: 0.0707 - acc: 0.9791 - val_loss: 0.3884 - val_acc: 0.9211\n"
     ]
    }
   ],
   "source": [
    "m4_hist = m4.fit(train_features, train_labels, epochs=30, batch_size=20,\n",
    "                   validation_data=(validation_features, validation_labels))"
   ]
  },
  {
   "cell_type": "code",
   "execution_count": 45,
   "metadata": {},
   "outputs": [
    {
     "name": "stdout",
     "output_type": "stream",
     "text": [
      "Train on 20000 samples, validate on 10000 samples\n",
      "Epoch 1/10\n",
      "20000/20000 [==============================] - 15s 736us/step - loss: 0.3275 - acc: 0.8984 - val_loss: 0.3145 - val_acc: 0.9026\n",
      "Epoch 2/10\n",
      "20000/20000 [==============================] - 14s 675us/step - loss: 0.2527 - acc: 0.9204 - val_loss: 0.2399 - val_acc: 0.9196\n",
      "Epoch 3/10\n",
      "20000/20000 [==============================] - 14s 706us/step - loss: 0.2325 - acc: 0.9269 - val_loss: 0.3254 - val_acc: 0.9060\n",
      "Epoch 4/10\n",
      "20000/20000 [==============================] - 14s 706us/step - loss: 0.2072 - acc: 0.9361 - val_loss: 0.2993 - val_acc: 0.9136\n",
      "Epoch 5/10\n",
      "20000/20000 [==============================] - 13s 660us/step - loss: 0.1892 - acc: 0.9415 - val_loss: 0.2623 - val_acc: 0.9210\n",
      "Epoch 6/10\n",
      "20000/20000 [==============================] - 14s 709us/step - loss: 0.1747 - acc: 0.9433 - val_loss: 0.2803 - val_acc: 0.9166\n",
      "Epoch 7/10\n",
      "20000/20000 [==============================] - 14s 701us/step - loss: 0.1620 - acc: 0.9471 - val_loss: 0.3012 - val_acc: 0.9186\n",
      "Epoch 8/10\n",
      "20000/20000 [==============================] - 14s 708us/step - loss: 0.1484 - acc: 0.9512 - val_loss: 0.3374 - val_acc: 0.9138\n",
      "Epoch 9/10\n",
      "20000/20000 [==============================] - 14s 696us/step - loss: 0.1345 - acc: 0.9570 - val_loss: 0.2983 - val_acc: 0.9152\n",
      "Epoch 10/10\n",
      "20000/20000 [==============================] - 14s 702us/step - loss: 0.1306 - acc: 0.9591 - val_loss: 0.3119 - val_acc: 0.9238\n"
     ]
    }
   ],
   "source": [
    "m5_hist = m5.fit(train_features, train_labels, epochs=10, batch_size=20,\n",
    "                   validation_data=(validation_features, validation_labels))"
   ]
  },
  {
   "cell_type": "code",
   "execution_count": 46,
   "metadata": {},
   "outputs": [
    {
     "name": "stdout",
     "output_type": "stream",
     "text": [
      "Train on 20000 samples, validate on 10000 samples\n",
      "Epoch 1/10\n",
      "20000/20000 [==============================] - 14s 716us/step - loss: 0.2837 - acc: 0.8995 - val_loss: 0.2497 - val_acc: 0.9161\n",
      "Epoch 2/10\n",
      "20000/20000 [==============================] - 14s 716us/step - loss: 0.2154 - acc: 0.9245 - val_loss: 0.2696 - val_acc: 0.9075\n",
      "Epoch 3/10\n",
      "20000/20000 [==============================] - 15s 726us/step - loss: 0.1862 - acc: 0.9323 - val_loss: 0.2247 - val_acc: 0.9242\n",
      "Epoch 4/10\n",
      "20000/20000 [==============================] - 14s 697us/step - loss: 0.1633 - acc: 0.9417 - val_loss: 0.2247 - val_acc: 0.9246\n",
      "Epoch 5/10\n",
      "20000/20000 [==============================] - 14s 701us/step - loss: 0.1406 - acc: 0.9499 - val_loss: 0.2220 - val_acc: 0.9257\n",
      "Epoch 6/10\n",
      "20000/20000 [==============================] - 14s 723us/step - loss: 0.1248 - acc: 0.9563 - val_loss: 0.2366 - val_acc: 0.9239\n",
      "Epoch 7/10\n",
      "20000/20000 [==============================] - 13s 674us/step - loss: 0.1091 - acc: 0.9623 - val_loss: 0.2648 - val_acc: 0.9167\n",
      "Epoch 8/10\n",
      "20000/20000 [==============================] - 14s 704us/step - loss: 0.0965 - acc: 0.9670 - val_loss: 0.2428 - val_acc: 0.9232\n",
      "Epoch 9/10\n",
      "20000/20000 [==============================] - 14s 688us/step - loss: 0.0843 - acc: 0.9712 - val_loss: 0.2424 - val_acc: 0.9242\n",
      "Epoch 10/10\n",
      "20000/20000 [==============================] - 13s 655us/step - loss: 0.0723 - acc: 0.9767 - val_loss: 0.2662 - val_acc: 0.9196\n"
     ]
    }
   ],
   "source": [
    "m6_hist = m6.fit(train_features, train_labels, epochs=10, batch_size=20,\n",
    "                   validation_data=(validation_features, validation_labels))"
   ]
  },
  {
   "cell_type": "code",
   "execution_count": 47,
   "metadata": {},
   "outputs": [
    {
     "name": "stdout",
     "output_type": "stream",
     "text": [
      "10000/10000 [==============================] - 1s 111us/step\n",
      "Model 4: Test Accuracy: 0.9239\n",
      "10000/10000 [==============================] - 1s 104us/step\n",
      "Model 5: Test Accuracy: 0.9304\n",
      "10000/10000 [==============================] - 1s 101us/step\n",
      "Model 6: Test Accuracy: 0.9297\n"
     ]
    }
   ],
   "source": [
    "loss4, acc4 = m4.evaluate(test_features, test_labels)\n",
    "print(\"Model 4: Test Accuracy:\", acc4)\n",
    "loss5, acc5 = m5.evaluate(test_features, test_labels)\n",
    "print(\"Model 5: Test Accuracy:\", acc5)\n",
    "loss6, acc6 = m6.evaluate(test_features, test_labels)\n",
    "print(\"Model 6: Test Accuracy:\", acc6)"
   ]
  },
  {
   "cell_type": "code",
   "execution_count": 48,
   "metadata": {},
   "outputs": [
    {
     "data": {
      "image/png": "[encoded data removed]",
      "text/plain": [
       "<Figure size 720x576 with 1 Axes>"
      ]
     },
     "metadata": {},
     "output_type": "display_data"
    },
    {
     "data": {
      "image/png": "[encoded data removed]",
      "text/plain": [
       "<Figure size 720x576 with 1 Axes>"
      ]
     },
     "metadata": {},
     "output_type": "display_data"
    }
   ],
   "source": [
    "plot_hist(m4_hist, 'Model 4')"
   ]
  },
  {
   "cell_type": "code",
   "execution_count": 49,
   "metadata": {},
   "outputs": [
    {
     "data": {
      "image/png": "[encoded data removed]",
      "text/plain": [
       "<Figure size 720x576 with 1 Axes>"
      ]
     },
     "metadata": {},
     "output_type": "display_data"
    },
    {
     "data": {
      "image/png": "[encoded data removed]",
      "text/plain": [
       "<Figure size 720x576 with 1 Axes>"
      ]
     },
     "metadata": {},
     "output_type": "display_data"
    }
   ],
   "source": [
    "plot_hist(m5_hist, 'Model 5')"
   ]
  },
  {
   "cell_type": "code",
   "execution_count": 50,
   "metadata": {},
   "outputs": [
    {
     "data": {
      "image/png": "[encoded data removed]",
      "text/plain": [
       "<Figure size 720x576 with 1 Axes>"
      ]
     },
     "metadata": {},
     "output_type": "display_data"
    },
    {
     "data": {
      "image/png": "[encoded data removed]",
      "text/plain": [
       "<Figure size 720x576 with 1 Axes>"
      ]
     },
     "metadata": {},
     "output_type": "display_data"
    }
   ],
   "source": [
    "plot_hist(m6_hist, 'Model 6')"
   ]
  },
  {
   "cell_type": "markdown",
   "metadata": {},
   "source": [
    "# Fine Tuning - VGG16"
   ]
  },
  {
   "cell_type": "code",
   "execution_count": 51,
   "metadata": {},
   "outputs": [],
   "source": [
    "from keras.applications import  VGG16\n",
    "conv_base_vgg16 = VGG16(weights = 'imagenet', include_top=False, input_shape=(150, 150, 3))"
   ]
  },
  {
   "cell_type": "code",
   "execution_count": 52,
   "metadata": {},
   "outputs": [
    {
     "name": "stdout",
     "output_type": "stream",
     "text": [
      "_________________________________________________________________\n",
      "Layer (type)                 Output Shape              Param #   \n",
      "=================================================================\n",
      "input_3 (InputLayer)         (None, 150, 150, 3)       0         \n",
      "_________________________________________________________________\n",
      "block1_conv1 (Conv2D)        (None, 150, 150, 64)      1792      \n",
      "_________________________________________________________________\n",
      "block1_conv2 (Conv2D)        (None, 150, 150, 64)      36928     \n",
      "_________________________________________________________________\n",
      "block1_pool (MaxPooling2D)   (None, 75, 75, 64)        0         \n",
      "_________________________________________________________________\n",
      "block2_conv1 (Conv2D)        (None, 75, 75, 128)       73856     \n",
      "_________________________________________________________________\n",
      "block2_conv2 (Conv2D)        (None, 75, 75, 128)       147584    \n",
      "_________________________________________________________________\n",
      "block2_pool (MaxPooling2D)   (None, 37, 37, 128)       0         \n",
      "_________________________________________________________________\n",
      "block3_conv1 (Conv2D)        (None, 37, 37, 256)       295168    \n",
      "_________________________________________________________________\n",
      "block3_conv2 (Conv2D)        (None, 37, 37, 256)       590080    \n",
      "_________________________________________________________________\n",
      "block3_conv3 (Conv2D)        (None, 37, 37, 256)       590080    \n",
      "_________________________________________________________________\n",
      "block3_pool (MaxPooling2D)   (None, 18, 18, 256)       0         \n",
      "_________________________________________________________________\n",
      "block4_conv1 (Conv2D)        (None, 18, 18, 512)       1180160   \n",
      "_________________________________________________________________\n",
      "block4_conv2 (Conv2D)        (None, 18, 18, 512)       2359808   \n",
      "_________________________________________________________________\n",
      "block4_conv3 (Conv2D)        (None, 18, 18, 512)       2359808   \n",
      "_________________________________________________________________\n",
      "block4_pool (MaxPooling2D)   (None, 9, 9, 512)         0         \n",
      "_________________________________________________________________\n",
      "block5_conv1 (Conv2D)        (None, 9, 9, 512)         2359808   \n",
      "_________________________________________________________________\n",
      "block5_conv2 (Conv2D)        (None, 9, 9, 512)         2359808   \n",
      "_________________________________________________________________\n",
      "block5_conv3 (Conv2D)        (None, 9, 9, 512)         2359808   \n",
      "_________________________________________________________________\n",
      "block5_pool (MaxPooling2D)   (None, 4, 4, 512)         0         \n",
      "=================================================================\n",
      "Total params: 14,714,688\n",
      "Trainable params: 14,714,688\n",
      "Non-trainable params: 0\n",
      "_________________________________________________________________\n"
     ]
    }
   ],
   "source": [
    "conv_base_vgg16.summary()"
   ]
  },
  {
   "cell_type": "code",
   "execution_count": 53,
   "metadata": {},
   "outputs": [],
   "source": [
    "conv_base_vgg16.trainable = True\n",
    "set_trainable = False\n",
    "for layer in conv_base_vgg16.layers:\n",
    "    if layer.name == 'block5_conv1':\n",
    "        set_trainable = True\n",
    "    if set_trainable:\n",
    "        layer.trainable = True\n",
    "    else:\n",
    "        layer.trainable = False"
   ]
  },
  {
   "cell_type": "code",
   "execution_count": 54,
   "metadata": {},
   "outputs": [
    {
     "name": "stdout",
     "output_type": "stream",
     "text": [
      "_________________________________________________________________\n",
      "Layer (type)                 Output Shape              Param #   \n",
      "=================================================================\n",
      "input_3 (InputLayer)         (None, 150, 150, 3)       0         \n",
      "_________________________________________________________________\n",
      "block1_conv1 (Conv2D)        (None, 150, 150, 64)      1792      \n",
      "_________________________________________________________________\n",
      "block1_conv2 (Conv2D)        (None, 150, 150, 64)      36928     \n",
      "_________________________________________________________________\n",
      "block1_pool (MaxPooling2D)   (None, 75, 75, 64)        0         \n",
      "_________________________________________________________________\n",
      "block2_conv1 (Conv2D)        (None, 75, 75, 128)       73856     \n",
      "_________________________________________________________________\n",
      "block2_conv2 (Conv2D)        (None, 75, 75, 128)       147584    \n",
      "_________________________________________________________________\n",
      "block2_pool (MaxPooling2D)   (None, 37, 37, 128)       0         \n",
      "_________________________________________________________________\n",
      "block3_conv1 (Conv2D)        (None, 37, 37, 256)       295168    \n",
      "_________________________________________________________________\n",
      "block3_conv2 (Conv2D)        (None, 37, 37, 256)       590080    \n",
      "_________________________________________________________________\n",
      "block3_conv3 (Conv2D)        (None, 37, 37, 256)       590080    \n",
      "_________________________________________________________________\n",
      "block3_pool (MaxPooling2D)   (None, 18, 18, 256)       0         \n",
      "_________________________________________________________________\n",
      "block4_conv1 (Conv2D)        (None, 18, 18, 512)       1180160   \n",
      "_________________________________________________________________\n",
      "block4_conv2 (Conv2D)        (None, 18, 18, 512)       2359808   \n",
      "_________________________________________________________________\n",
      "block4_conv3 (Conv2D)        (None, 18, 18, 512)       2359808   \n",
      "_________________________________________________________________\n",
      "block4_pool (MaxPooling2D)   (None, 9, 9, 512)         0         \n",
      "_________________________________________________________________\n",
      "block5_conv1 (Conv2D)        (None, 9, 9, 512)         2359808   \n",
      "_________________________________________________________________\n",
      "block5_conv2 (Conv2D)        (None, 9, 9, 512)         2359808   \n",
      "_________________________________________________________________\n",
      "block5_conv3 (Conv2D)        (None, 9, 9, 512)         2359808   \n",
      "_________________________________________________________________\n",
      "block5_pool (MaxPooling2D)   (None, 4, 4, 512)         0         \n",
      "=================================================================\n",
      "Total params: 14,714,688\n",
      "Trainable params: 7,079,424\n",
      "Non-trainable params: 7,635,264\n",
      "_________________________________________________________________\n"
     ]
    }
   ],
   "source": [
    "conv_base_vgg16.summary()"
   ]
  },
  {
   "cell_type": "code",
   "execution_count": 55,
   "metadata": {},
   "outputs": [],
   "source": [
    "def create_model_FT_VGG16(neurons=256, dropout=0.5, bn=False):\n",
    "    model = models.Sequential()\n",
    "    model.add(conv_base_vgg16)\n",
    "    model.add(layers.Flatten())\n",
    "    model.add(layers.Dense(neurons, activation='relu'))\n",
    "    if dropout > 0.0:\n",
    "        model.add(layers.Dropout(dropout))\n",
    "    if bn:\n",
    "        model.add(layers.BatchNormalization())\n",
    "    model.add(layers.Dense(1, activation='sigmoid'))\n",
    "    model.summary()\n",
    "    model.compile(loss='binary_crossentropy',\n",
    "              optimizer=optimizers.RMSprop(lr=2e-5),\n",
    "              metrics=['acc'])\n",
    "    return model"
   ]
  },
  {
   "cell_type": "code",
   "execution_count": 56,
   "metadata": {
    "scrolled": true
   },
   "outputs": [
    {
     "name": "stdout",
     "output_type": "stream",
     "text": [
      "Found 40000 images belonging to 2 classes.\n",
      "Found 20000 images belonging to 2 classes.\n",
      "Found 20000 images belonging to 2 classes.\n"
     ]
    }
   ],
   "source": [
    "from keras.preprocessing.image import ImageDataGenerator\n",
    "\n",
    "train_datagen = ImageDataGenerator(\n",
    "      rescale=1./255,\n",
    "      rotation_range=40,\n",
    "      width_shift_range=0.2,\n",
    "      height_shift_range=0.2,\n",
    "      shear_range=0.2,\n",
    "      zoom_range=0.2,\n",
    "      horizontal_flip=True,\n",
    "      fill_mode='nearest')\n",
    "\n",
    "# Notar que la data de validacion no debe ser aumentada!\n",
    "test_datagen = ImageDataGenerator(rescale=1./255)\n",
    "\n",
    "train_generator = train_datagen.flow_from_directory(\n",
    "        TRAIN_DIR,\n",
    "        target_size=(150, 150),\n",
    "        batch_size=20,\n",
    "        class_mode='binary')\n",
    "\n",
    "val_generator = test_datagen.flow_from_directory(\n",
    "        VAL_DIR,\n",
    "        target_size=(150, 150),\n",
    "        batch_size=20,\n",
    "        class_mode='binary')\n",
    "\n",
    "test_generator = test_datagen.flow_from_directory(\n",
    "        TEST_DIR,\n",
    "        target_size=(150, 150),\n",
    "        batch_size=20,\n",
    "        class_mode='binary')"
   ]
  },
  {
   "cell_type": "code",
   "execution_count": 57,
   "metadata": {},
   "outputs": [
    {
     "name": "stdout",
     "output_type": "stream",
     "text": [
      "_________________________________________________________________\n",
      "Layer (type)                 Output Shape              Param #   \n",
      "=================================================================\n",
      "vgg16 (Model)                (None, 4, 4, 512)         14714688  \n",
      "_________________________________________________________________\n",
      "flatten_1 (Flatten)          (None, 8192)              0         \n",
      "_________________________________________________________________\n",
      "dense_13 (Dense)             (None, 256)               2097408   \n",
      "_________________________________________________________________\n",
      "dropout_7 (Dropout)          (None, 256)               0         \n",
      "_________________________________________________________________\n",
      "dense_14 (Dense)             (None, 1)                 257       \n",
      "=================================================================\n",
      "Total params: 16,812,353\n",
      "Trainable params: 9,177,089\n",
      "Non-trainable params: 7,635,264\n",
      "_________________________________________________________________\n",
      "_________________________________________________________________\n",
      "Layer (type)                 Output Shape              Param #   \n",
      "=================================================================\n",
      "vgg16 (Model)                (None, 4, 4, 512)         14714688  \n",
      "_________________________________________________________________\n",
      "flatten_2 (Flatten)          (None, 8192)              0         \n",
      "_________________________________________________________________\n",
      "dense_15 (Dense)             (None, 1024)              8389632   \n",
      "_________________________________________________________________\n",
      "dropout_8 (Dropout)          (None, 1024)              0         \n",
      "_________________________________________________________________\n",
      "dense_16 (Dense)             (None, 1)                 1025      \n",
      "=================================================================\n",
      "Total params: 23,105,345\n",
      "Trainable params: 15,470,081\n",
      "Non-trainable params: 7,635,264\n",
      "_________________________________________________________________\n",
      "_________________________________________________________________\n",
      "Layer (type)                 Output Shape              Param #   \n",
      "=================================================================\n",
      "vgg16 (Model)                (None, 4, 4, 512)         14714688  \n",
      "_________________________________________________________________\n",
      "flatten_3 (Flatten)          (None, 8192)              0         \n",
      "_________________________________________________________________\n",
      "dense_17 (Dense)             (None, 1024)              8389632   \n",
      "_________________________________________________________________\n",
      "dropout_9 (Dropout)          (None, 1024)              0         \n",
      "_________________________________________________________________\n",
      "batch_normalization_98 (Batc (None, 1024)              4096      \n",
      "_________________________________________________________________\n",
      "dense_18 (Dense)             (None, 1)                 1025      \n",
      "=================================================================\n",
      "Total params: 23,109,441\n",
      "Trainable params: 15,472,129\n",
      "Non-trainable params: 7,637,312\n",
      "_________________________________________________________________\n"
     ]
    }
   ],
   "source": [
    "m7 = create_model_FT_VGG16()\n",
    "m8 = create_model_FT_VGG16(1024)\n",
    "m9 = create_model_FT_VGG16(1024, 0.5, True)"
   ]
  },
  {
   "cell_type": "code",
   "execution_count": null,
   "metadata": {},
   "outputs": [],
   "source": []
  },
  {
   "cell_type": "code",
   "execution_count": 58,
   "metadata": {},
   "outputs": [
    {
     "name": "stdout",
     "output_type": "stream",
     "text": [
      "Epoch 1/30\n",
      "100/100 [==============================] - 10s 98ms/step - loss: 0.5110 - acc: 0.7410 - val_loss: 0.3266 - val_acc: 0.8690\n",
      "Epoch 2/30\n",
      "100/100 [==============================] - 9s 85ms/step - loss: 0.4238 - acc: 0.8260 - val_loss: 0.2539 - val_acc: 0.9080\n",
      "Epoch 3/30\n",
      "100/100 [==============================] - 9s 85ms/step - loss: 0.3265 - acc: 0.8640 - val_loss: 0.2131 - val_acc: 0.9090\n",
      "Epoch 4/30\n",
      "100/100 [==============================] - 9s 85ms/step - loss: 0.3442 - acc: 0.8615 - val_loss: 0.2204 - val_acc: 0.9120\n",
      "Epoch 5/30\n",
      "100/100 [==============================] - 9s 85ms/step - loss: 0.3351 - acc: 0.8695 - val_loss: 0.1944 - val_acc: 0.9260\n",
      "Epoch 6/30\n",
      "100/100 [==============================] - 9s 86ms/step - loss: 0.3089 - acc: 0.8850 - val_loss: 0.1771 - val_acc: 0.9240\n",
      "Epoch 7/30\n",
      "100/100 [==============================] - 9s 86ms/step - loss: 0.2903 - acc: 0.8780 - val_loss: 0.1775 - val_acc: 0.9350\n",
      "Epoch 8/30\n",
      "100/100 [==============================] - 8s 85ms/step - loss: 0.3001 - acc: 0.8870 - val_loss: 0.1803 - val_acc: 0.9320\n",
      "Epoch 9/30\n",
      "100/100 [==============================] - 8s 85ms/step - loss: 0.3197 - acc: 0.8765 - val_loss: 0.3302 - val_acc: 0.8700\n",
      "Epoch 10/30\n",
      "100/100 [==============================] - 8s 85ms/step - loss: 0.2914 - acc: 0.8935 - val_loss: 0.2073 - val_acc: 0.9210\n",
      "Epoch 11/30\n",
      "100/100 [==============================] - 9s 86ms/step - loss: 0.2947 - acc: 0.8875 - val_loss: 0.1897 - val_acc: 0.9290\n",
      "Epoch 12/30\n",
      "100/100 [==============================] - 9s 86ms/step - loss: 0.2515 - acc: 0.9050 - val_loss: 0.1758 - val_acc: 0.9340\n",
      "Epoch 13/30\n",
      "100/100 [==============================] - 9s 86ms/step - loss: 0.2850 - acc: 0.8980 - val_loss: 0.1663 - val_acc: 0.9380\n",
      "Epoch 14/30\n",
      "100/100 [==============================] - 9s 85ms/step - loss: 0.2749 - acc: 0.8890 - val_loss: 0.1837 - val_acc: 0.9310\n",
      "Epoch 15/30\n",
      "100/100 [==============================] - 9s 86ms/step - loss: 0.2747 - acc: 0.9030 - val_loss: 0.1905 - val_acc: 0.9270\n",
      "Epoch 16/30\n",
      "100/100 [==============================] - 9s 86ms/step - loss: 0.2687 - acc: 0.8975 - val_loss: 0.1667 - val_acc: 0.9390\n",
      "Epoch 17/30\n",
      "100/100 [==============================] - 9s 86ms/step - loss: 0.2749 - acc: 0.8950 - val_loss: 0.2744 - val_acc: 0.8870\n",
      "Epoch 18/30\n",
      "100/100 [==============================] - 9s 86ms/step - loss: 0.2516 - acc: 0.9030 - val_loss: 0.1556 - val_acc: 0.9410\n",
      "Epoch 19/30\n",
      "100/100 [==============================] - 9s 86ms/step - loss: 0.2350 - acc: 0.9120 - val_loss: 0.1757 - val_acc: 0.9340\n",
      "Epoch 20/30\n",
      "100/100 [==============================] - 9s 86ms/step - loss: 0.2912 - acc: 0.8965 - val_loss: 0.2191 - val_acc: 0.9170\n",
      "Epoch 21/30\n",
      "100/100 [==============================] - 9s 85ms/step - loss: 0.2450 - acc: 0.9095 - val_loss: 0.1606 - val_acc: 0.9410\n",
      "Epoch 22/30\n",
      "100/100 [==============================] - 8s 85ms/step - loss: 0.2533 - acc: 0.9045 - val_loss: 0.2112 - val_acc: 0.9200\n",
      "Epoch 23/30\n",
      "100/100 [==============================] - 9s 85ms/step - loss: 0.2719 - acc: 0.9020 - val_loss: 0.2131 - val_acc: 0.9230\n",
      "Epoch 24/30\n",
      "100/100 [==============================] - 8s 84ms/step - loss: 0.2586 - acc: 0.9095 - val_loss: 0.2054 - val_acc: 0.9240\n",
      "Epoch 25/30\n",
      "100/100 [==============================] - 8s 85ms/step - loss: 0.2620 - acc: 0.9030 - val_loss: 0.1469 - val_acc: 0.9460\n",
      "Epoch 26/30\n",
      "100/100 [==============================] - 8s 85ms/step - loss: 0.2144 - acc: 0.9165 - val_loss: 0.1469 - val_acc: 0.9490\n",
      "Epoch 27/30\n",
      "100/100 [==============================] - 9s 86ms/step - loss: 0.2161 - acc: 0.9180 - val_loss: 0.1593 - val_acc: 0.9410\n",
      "Epoch 28/30\n",
      "100/100 [==============================] - 8s 85ms/step - loss: 0.2418 - acc: 0.9130 - val_loss: 0.1429 - val_acc: 0.9480\n",
      "Epoch 29/30\n",
      "100/100 [==============================] - 9s 85ms/step - loss: 0.2236 - acc: 0.9105 - val_loss: 0.1402 - val_acc: 0.9490\n",
      "Epoch 30/30\n",
      "100/100 [==============================] - 9s 85ms/step - loss: 0.2774 - acc: 0.9030 - val_loss: 0.1989 - val_acc: 0.9160\n"
     ]
    }
   ],
   "source": [
    "m9_hist = m9.fit_generator(\n",
    "      train_generator,  epochs=30,   steps_per_epoch=100,\n",
    "      validation_data=val_generator, validation_steps=50, verbose=1)"
   ]
  },
  {
   "cell_type": "code",
   "execution_count": 59,
   "metadata": {},
   "outputs": [
    {
     "name": "stdout",
     "output_type": "stream",
     "text": [
      "Model 9 - Test Accuracy: 0.918999993801117\n"
     ]
    }
   ],
   "source": [
    "loss9, acc9 = m9.evaluate_generator(test_generator, steps=100)\n",
    "print('Model 9 - Test Accuracy:', acc9)"
   ]
  },
  {
   "cell_type": "code",
   "execution_count": 60,
   "metadata": {},
   "outputs": [
    {
     "data": {
      "image/png": "[encoded data removed]",
      "text/plain": [
       "<Figure size 720x576 with 1 Axes>"
      ]
     },
     "metadata": {},
     "output_type": "display_data"
    },
    {
     "data": {
      "image/png": "[encoded data removed]",
      "text/plain": [
       "<Figure size 720x576 with 1 Axes>"
      ]
     },
     "metadata": {},
     "output_type": "display_data"
    }
   ],
   "source": [
    "plot_hist(m9_hist)"
   ]
  },
  {
   "cell_type": "markdown",
   "metadata": {},
   "source": [
    "# Feature Extraction - MobileNet"
   ]
  },
  {
   "cell_type": "code",
   "execution_count": 61,
   "metadata": {},
   "outputs": [],
   "source": [
    "from keras.applications import MobileNet\n",
    "conv_base_mob = MobileNet(weights = 'imagenet', include_top=False, input_shape=(224, 224, 3))"
   ]
  },
  {
   "cell_type": "code",
   "execution_count": 62,
   "metadata": {},
   "outputs": [],
   "source": [
    "datagen4 = ImageDataGenerator(rescale=1.0/255)"
   ]
  },
  {
   "cell_type": "code",
   "execution_count": 63,
   "metadata": {},
   "outputs": [],
   "source": [
    "def extract_features_MOB(directory, sample_count):\n",
    "    features = np.zeros(shape=(sample_count, 7, 7, 1024))\n",
    "    labels = np.zeros(shape=(sample_count))\n",
    "    generator = datagen4.flow_from_directory(\n",
    "        directory,\n",
    "        target_size=(224, 224),\n",
    "        batch_size=batch_size,\n",
    "        class_mode='binary')\n",
    "    i = 0\n",
    "    for inputs_batch, labels_batch in generator:\n",
    "        features_batch = conv_base_mob.predict(inputs_batch)\n",
    "        features[i * batch_size : (i + 1) * batch_size] = features_batch\n",
    "        labels[i * batch_size : (i + 1) * batch_size] = labels_batch\n",
    "        i += 1\n",
    "        if i * batch_size >= sample_count:\n",
    "            break\n",
    "    return features, labels"
   ]
  },
  {
   "cell_type": "code",
   "execution_count": 64,
   "metadata": {
    "scrolled": true
   },
   "outputs": [
    {
     "name": "stdout",
     "output_type": "stream",
     "text": [
      "Found 40000 images belonging to 2 classes.\n",
      "Found 20000 images belonging to 2 classes.\n",
      "Found 20000 images belonging to 2 classes.\n"
     ]
    }
   ],
   "source": [
    "train_features, train_labels = extract_features_MOB(TRAIN_DIR, NB_TRAIN)\n",
    "validation_features, validation_labels = extract_features_MOB(VAL_DIR, NB_VAL)\n",
    "test_features, test_labels = extract_features_MOB(TEST_DIR, NB_TEST)"
   ]
  },
  {
   "cell_type": "code",
   "execution_count": 65,
   "metadata": {},
   "outputs": [],
   "source": [
    "DIM_SIZE = 7 * 7 * 1024"
   ]
  },
  {
   "cell_type": "code",
   "execution_count": 66,
   "metadata": {},
   "outputs": [],
   "source": [
    "train_features = np.reshape(train_features, (NB_TRAIN, DIM_SIZE))\n",
    "validation_features = np.reshape(validation_features, (NB_VAL, DIM_SIZE))\n",
    "test_features = np.reshape(test_features, (NB_TEST, DIM_SIZE))"
   ]
  },
  {
   "cell_type": "code",
   "execution_count": 67,
   "metadata": {},
   "outputs": [],
   "source": [
    "def create_model_MOB(neurons=256, dropout=0.5, bn=False):\n",
    "    model = models.Sequential()\n",
    "    model.add(layers.Dense(neurons, activation='relu', input_dim=DIM_SIZE))\n",
    "    if dropout > 0.0:\n",
    "        model.add(layers.Dropout(dropout))\n",
    "    if bn:\n",
    "        model.add(layers.Batch_Normalization())\n",
    "    model.add(layers.Dense(1, activation='sigmoid'))\n",
    "    model.summary()\n",
    "    model.compile(\n",
    "        optimizer = optimizers.RMSprop(lr=2e-5),\n",
    "        loss = 'binary_crossentropy',\n",
    "        metrics = ['acc'])\n",
    "    return model"
   ]
  },
  {
   "cell_type": "code",
   "execution_count": 68,
   "metadata": {},
   "outputs": [
    {
     "name": "stdout",
     "output_type": "stream",
     "text": [
      "_________________________________________________________________\n",
      "Layer (type)                 Output Shape              Param #   \n",
      "=================================================================\n",
      "dense_19 (Dense)             (None, 256)               12845312  \n",
      "_________________________________________________________________\n",
      "dropout_10 (Dropout)         (None, 256)               0         \n",
      "_________________________________________________________________\n",
      "dense_20 (Dense)             (None, 1)                 257       \n",
      "=================================================================\n",
      "Total params: 12,845,569\n",
      "Trainable params: 12,845,569\n",
      "Non-trainable params: 0\n",
      "_________________________________________________________________\n"
     ]
    }
   ],
   "source": [
    "m10 = create_model_MOB()"
   ]
  },
  {
   "cell_type": "code",
   "execution_count": 69,
   "metadata": {},
   "outputs": [
    {
     "name": "stdout",
     "output_type": "stream",
     "text": [
      "Train on 20000 samples, validate on 10000 samples\n",
      "Epoch 1/10\n",
      "20000/20000 [==============================] - 15s 732us/step - loss: 0.2763 - acc: 0.9078 - val_loss: 0.2023 - val_acc: 0.9409\n",
      "Epoch 2/10\n",
      "20000/20000 [==============================] - 14s 707us/step - loss: 0.2061 - acc: 0.9419 - val_loss: 0.2198 - val_acc: 0.9420\n",
      "Epoch 3/10\n",
      "20000/20000 [==============================] - 14s 680us/step - loss: 0.1768 - acc: 0.9518 - val_loss: 0.2322 - val_acc: 0.9450\n",
      "Epoch 4/10\n",
      "20000/20000 [==============================] - 14s 679us/step - loss: 0.1564 - acc: 0.9585 - val_loss: 0.2397 - val_acc: 0.9460\n",
      "Epoch 5/10\n",
      "20000/20000 [==============================] - 14s 679us/step - loss: 0.1367 - acc: 0.9651 - val_loss: 0.2855 - val_acc: 0.9428\n",
      "Epoch 6/10\n",
      "20000/20000 [==============================] - 13s 669us/step - loss: 0.1261 - acc: 0.9681 - val_loss: 0.2823 - val_acc: 0.9434\n",
      "Epoch 7/10\n",
      "20000/20000 [==============================] - 14s 701us/step - loss: 0.1133 - acc: 0.9711 - val_loss: 0.3012 - val_acc: 0.9429\n",
      "Epoch 8/10\n",
      "20000/20000 [==============================] - 14s 676us/step - loss: 0.1049 - acc: 0.9727 - val_loss: 0.3179 - val_acc: 0.9431\n",
      "Epoch 9/10\n",
      "20000/20000 [==============================] - 14s 692us/step - loss: 0.0990 - acc: 0.9761 - val_loss: 0.3943 - val_acc: 0.9272\n",
      "Epoch 10/10\n",
      "20000/20000 [==============================] - 14s 700us/step - loss: 0.0909 - acc: 0.9784 - val_loss: 0.3500 - val_acc: 0.9383\n"
     ]
    }
   ],
   "source": [
    "m10_hist = m10.fit(train_features, train_labels,\n",
    "                 epochs=10,\n",
    "                 batch_size=20,\n",
    "                 validation_data=(validation_features, validation_labels))"
   ]
  },
  {
   "cell_type": "code",
   "execution_count": 70,
   "metadata": {},
   "outputs": [
    {
     "name": "stdout",
     "output_type": "stream",
     "text": [
      "10000/10000 [==============================] - 2s 182us/step\n",
      "Model 10 - Test Accuracy: 0.9374\n"
     ]
    }
   ],
   "source": [
    "loss10, acc10 = m10.evaluate(test_features, test_labels)\n",
    "print('Model 10 - Test Accuracy:', acc10)"
   ]
  },
  {
   "cell_type": "code",
   "execution_count": 71,
   "metadata": {},
   "outputs": [
    {
     "data": {
      "image/png": "[encoded data removed]",
      "text/plain": [
       "<Figure size 720x576 with 1 Axes>"
      ]
     },
     "metadata": {},
     "output_type": "display_data"
    },
    {
     "data": {
      "image/png": "[encoded data removed]",
      "text/plain": [
       "<Figure size 720x576 with 1 Axes>"
      ]
     },
     "metadata": {},
     "output_type": "display_data"
    }
   ],
   "source": [
    "plot_hist(m10_hist, 'Model 10')"
   ]
  },
  {
   "cell_type": "code",
   "execution_count": null,
   "metadata": {},
   "outputs": [],
   "source": []
  },
  {
   "cell_type": "code",
   "execution_count": null,
   "metadata": {},
   "outputs": [],
   "source": []
  }
 ],
 "metadata": {
  "kernelspec": {
   "display_name": "Python 3",
   "language": "python",
   "name": "python3"
  },
  "language_info": {
   "codemirror_mode": {
    "name": "ipython",
    "version": 3
   },
   "file_extension": ".py",
   "mimetype": "text/x-python",
   "name": "python",
   "nbconvert_exporter": "python",
   "pygments_lexer": "ipython3",
   "version": "3.6.5"
  }
 },
 "nbformat": 4,
 "nbformat_minor": 2
}
